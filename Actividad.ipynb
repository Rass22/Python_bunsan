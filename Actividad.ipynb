{
 "cells": [
  {
   "cell_type": "code",
   "execution_count": 145,
   "metadata": {},
   "outputs": [],
   "source": [
    "import re\n",
    "with open(\"../Python2/assets/es-11663-8_UTF8.txt\", encoding = 'utf-8') as f:\n",
    "    lines=f.readlines()\n",
    "            "
   ]
  },
  {
   "cell_type": "markdown",
   "metadata": {},
   "source": [
    "#Act1"
   ]
  },
  {
   "cell_type": "code",
   "execution_count": null,
   "metadata": {},
   "outputs": [],
   "source": [
    "%%time\n",
    "#se importa libreria para usar regex\n",
    "import re\n",
    "#se abre y lee el file\n",
    "with open(\"../Python2/assets/es-11663-8_UTF8.txt\", encoding = 'utf-8') as f:\n",
    "    lines=f.readlines()\n",
    "    \n",
    "crtrs = {}\n",
    "numero_de_caracteres=0\n",
    "comienzo = False\n",
    "\n",
    "#1.- se iteran las lineas\n",
    "for renglon in lines:\n",
    "    #se busca la linea con el asterisco usando regex\n",
    "    #si se encuentra la linea con asteriscos\n",
    "    if (re.search('^\\*', renglon)) and comienzo is False:\n",
    "        print(renglon)\n",
    "        comienzo = True\n",
    "        #se vuelve a poner como none ya que este nos sirve para encontrar el final\n",
    "        a = None\n",
    "        continue\n",
    "     #si encontramos la ultima linea, imprimimos y salimos con break\n",
    "    if (re.search('^\\*', renglon)) and comienzo is True:\n",
    "        print(renglon)\n",
    "        break\n",
    "    \n",
    "    #si ya empezamos checamos cada letra en la linea\n",
    "    if comienzo is True :                 \n",
    "        for ltra in renglon:  \n",
    "            #verifica que char ya esta guardado   \n",
    "            if ltra in crtrs:\n",
    "                #incrementamos +1\n",
    "                crtrs[ltra] += 1          \n",
    "            elif ltra not in crtrs:\n",
    "                #si no esta guardado comenzamos con 1\n",
    "                crtrs[ltra] = 1\n",
    "            #si si esta     \n",
    "               \n",
    "            numero_de_caracteres += 1  \n",
    " \n",
    "print(f\"Total Chars -> {numero_de_caracteres}\")              \n",
    "\n",
    "for ltra in crtrs: \n",
    "    #iteramos y aplicamos un sorted\n",
    "    sorted(crtrs)        \n",
    "    #mostramos la letra con su frecuencia                            \n",
    "    print(f'Letra -> \"{ltra}\" Frecuencia del char -> {crtrs[ltra]}  frecuencia relativa -> \"{crtrs[ltra]*100/numero_de_caracteres}\"')"
   ]
  },
  {
   "cell_type": "markdown",
   "metadata": {},
   "source": [
    "#Act 2"
   ]
  },
  {
   "cell_type": "code",
   "execution_count": null,
   "metadata": {},
   "outputs": [],
   "source": [
    "%%time\n",
    "import re\n",
    "with open(\"../Python2/assets/es-11663-8_UTF8.txt\", encoding = 'utf-8') as f:\n",
    "    lines=f.readlines()\n",
    "\n",
    "crtrs = {}\n",
    "#se quita el \\n\n",
    "renglon = renglon.rstrip()\n",
    "numero_de_caracteres=0\n",
    "comienzo = False\n",
    "                                \n",
    " \n",
    "for renglon in lines:\n",
    "    #se busca la linea con el asterisco usando regex y se usa\n",
    "    if (re.search('^\\*', renglon)) and (comienzo == False):\n",
    "        print(renglon)\n",
    "        comienzo = True\n",
    "        #se vuelve a poner como none ya que este nos sirve para encontrar el final\n",
    "        a = None\n",
    "        continue\n",
    "     #si encontramos la ultima linea, se usa y salimos con break\n",
    "    if (re.search('^\\*', renglon)) and (comienzo == True):\n",
    "        print(renglon)\n",
    "        break\n",
    "    \n",
    "    #se reemplazan los caracteres\n",
    "    if comienzo is True :\n",
    "        renglon = re.sub( '[äëïöüÿ]', 'aeiouy', renglon)\n",
    "        renglon = re.sub( '[âááäāãàå]', 'a', renglon)   \n",
    "        renglon = re.sub( '[èêééëē]', 'e', renglon)\n",
    "        renglon = re.sub( '[ÿý]', 'y', renglon)\n",
    "        renglon = re.sub( '[ôóöōõòø]', 'o', renglon)\n",
    "        renglon = re.sub( '[ûúüūù]', 'u', renglon)    \n",
    "        renglon = re.sub( '[ç]', 's', renglon)\n",
    "        renglon = re.sub( '[æ]', 'ae', renglon)\n",
    "        renglon = re.sub( '[ß]', 'ss', renglon)\n",
    "\n",
    "      \n",
    "        for ltra in renglon:\n",
    "            if ltra != ' ':\n",
    "                if ltra not in crtrs:\n",
    "                    crtrs[ltra] = 1\n",
    "                elif ltra in crtrs:\n",
    "                    crtrs[ltra] += 1\n",
    "\n",
    "                numero_de_caracteres += 1  \n",
    " \n",
    "print(f\"Total Chars -> {numero_de_caracteres}\")              \n",
    "\n",
    "for ltra in crtrs: \n",
    "    #iteramos y aplicamos un sorted\n",
    "    n=sorted(crtrs)    \n",
    "    b=ltra.lower()    \n",
    "    #mostramos la letra con su frecuencia                            \n",
    "    print(f'Letra -> \"{b}\" Frecuencia del char -> {crtrs[ltra]}  frecuencia relativa -> \"{crtrs[ltra]*100/numero_de_caracteres}\"')"
   ]
  }
 ],
 "metadata": {
  "interpreter": {
   "hash": "b89b5cfaba6639976dc87ff2fec6d58faec662063367e2c229c520fe71072417"
  },
  "kernelspec": {
   "display_name": "Python 3.10.4 64-bit",
   "language": "python",
   "name": "python3"
  },
  "language_info": {
   "codemirror_mode": {
    "name": "ipython",
    "version": 3
   },
   "file_extension": ".py",
   "mimetype": "text/x-python",
   "name": "python",
   "nbconvert_exporter": "python",
   "pygments_lexer": "ipython3",
   "version": "3.10.4"
  },
  "orig_nbformat": 4
 },
 "nbformat": 4,
 "nbformat_minor": 2
}
