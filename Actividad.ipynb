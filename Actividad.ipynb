{
 "cells": [
  {
   "cell_type": "code",
   "execution_count": 145,
   "metadata": {},
   "outputs": [],
   "source": [
    "import re\n",
    "with open(\"../Python2/assets/es-11663-8_UTF8.txt\", encoding = 'utf-8') as f:\n",
    "    lines=f.readlines()\n",
    "            "
   ]
  },
  {
   "cell_type": "markdown",
   "metadata": {},
   "source": [
    "#Act1"
   ]
  },
  {
   "cell_type": "code",
   "execution_count": null,
   "metadata": {},
   "outputs": [],
   "source": [
    "%%time\n",
    "#se importa libreria para usar regex\n",
    "import re\n",
    "#se abre y lee el file\n",
    "with open(\"../Python2/assets/es-11663-8_UTF8.txt\", encoding = 'utf-8') as f:\n",
    "    lines=f.readlines()\n",
    "    \n",
    "crtrs = {}\n",
    "comienzo = False\n",
    "\n",
    "#1.- se iteran las lineas\n",
    "for renglon in lines:\n",
    "    #se busca la linea con el asterisco usando regex\n",
    "    a = re.search('^\\*', renglon)   \n",
    "    #si se encuentra la linea con asteriscos\n",
    "    if (a != None) and (comienzo == False):\n",
    "        #imprime\n",
    "        print(renglon)\n",
    "        comienzo = True\n",
    "        #se vuelve a poner como none ya que este nos sirve para encontrar el final\n",
    "        a = None\n",
    "        continue\n",
    "     #si encontramos la ultima linea, imprimimos y salimos con break\n",
    "    if (a != None) and (comienzo == True):\n",
    "        print(renglon)\n",
    "        break\n",
    "    \n",
    "    #si ya empezamos checamos cada letra en la linea\n",
    "    if comienzo == True :                 \n",
    "        for ltra in renglon:  \n",
    "            #verifica que char ya esta guardado             \n",
    "            if ltra not in crtrs:\n",
    "                #si no esta guardado comenzamos con 1\n",
    "                crtrs[ltra] = 1\n",
    "            #si si esta     \n",
    "            if ltra in crtrs:\n",
    "                #incrementamos +1\n",
    "                crtrs[ltra] += 1\n",
    "\n",
    "for ltra in crtrs: \n",
    "    #iteramos y aplicamos un sorted\n",
    "    sorted(crtrs)        \n",
    "    #mostramos la letra con su frecuencia                            \n",
    "    print(f'Letra \"{ltra}\"  frecuencia -> \"{crtrs[ltra]}\"')"
   ]
  },
  {
   "cell_type": "markdown",
   "metadata": {},
   "source": [
    "#Act 2"
   ]
  },
  {
   "cell_type": "code",
   "execution_count": null,
   "metadata": {},
   "outputs": [],
   "source": [
    "%%time\n",
    "import re\n",
    "with open(\"../Python2/assets/es-11663-8_UTF8.txt\", encoding = 'utf-8') as f:\n",
    "    lines=f.readlines()\n",
    "\n",
    "crtrs = {}\n",
    "#se convierte en minusculas\n",
    "renglon = renglon.lower()\n",
    "#se quita el \\n\n",
    "renglon = renglon.rstrip()\n",
    "comienzo = False\n",
    "                                \n",
    " \n",
    "for renglon in lines:\n",
    "    a = re.search('^\\*', renglon)\n",
    "    if (a != None) and (comienzo == False):\n",
    "        print(renglon)\n",
    "        comienzo = True\n",
    "        a = None\n",
    "        continue\n",
    "     \n",
    "    if (a != None) and (comienzo == True):\n",
    "        print(renglon)\n",
    "        break\n",
    "    \n",
    "    #se reemplazan los caracteres\n",
    "    if comienzo == True :\n",
    "        renglon = re.sub( '[āēīōū]', 'aeiou', renglon)    \n",
    "        renglon = re.sub( '[ãõñ]', 'aon', renglon)\n",
    "        renglon = re.sub( '[àòèìù]', 'aeiou', renglon)\n",
    "        renglon = re.sub( '[áéíóúý]', 'aeiouy', renglon)\n",
    "        renglon = re.sub( '[äëïöüÿ]', 'aeiouy', renglon)\n",
    "        renglon = re.sub( '[âêîôû]', 'aeiou', renglon)   \n",
    "        \n",
    "          \n",
    "        for ltra in renglon:\n",
    "            if ltra != ' ':\n",
    "                if ltra not in crtrs:\n",
    "                    crtrs[ltra] = 1\n",
    "                if ltra in crtrs:\n",
    "                    crtrs[ltra] += 1\n",
    "\n",
    "for ltra in crtrs:    \n",
    "    sorted(crtrs) \n",
    "    print(f'Letra \"{ltra}\"  frecuencia -> \"{crtrs[ltra]}\"')"
   ]
  }
 ],
 "metadata": {
  "interpreter": {
   "hash": "b89b5cfaba6639976dc87ff2fec6d58faec662063367e2c229c520fe71072417"
  },
  "kernelspec": {
   "display_name": "Python 3.10.4 64-bit",
   "language": "python",
   "name": "python3"
  },
  "language_info": {
   "name": "python",
   "version": "3.10.4"
  },
  "orig_nbformat": 4
 },
 "nbformat": 4,
 "nbformat_minor": 2
}
